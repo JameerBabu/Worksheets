{
  "cells": [
    {
      "cell_type": "markdown",
      "metadata": {
        "id": "view-in-github",
        "colab_type": "text"
      },
      "source": [
        "<a href=\"https://colab.research.google.com/github/JameerBabu/Worksheets/blob/main/Google_text_speech.ipynb\" target=\"_parent\"><img src=\"https://colab.research.google.com/assets/colab-badge.svg\" alt=\"Open In Colab\"/></a>"
      ]
    },
    {
      "cell_type": "markdown",
      "source": [
        "<div"
      ],
      "metadata": {
        "id": "UtAMgY1iFXUX"
      },
      "id": "UtAMgY1iFXUX"
    },
    {
      "cell_type": "markdown",
      "id": "2ad60cbe-4826-4c0f-aab7-a222d5b95547",
      "metadata": {
        "id": "2ad60cbe-4826-4c0f-aab7-a222d5b95547"
      },
      "source": [
        "<div style=\"text-align: center;\">\n",
        "\n",
        "<h1>  Google Text to Speech </h1>\n",
        "</div>"
      ]
    },
    {
      "cell_type": "markdown",
      "id": "f95f8eac-81d1-439c-8132-95abdd5a72e4",
      "metadata": {
        "id": "f95f8eac-81d1-439c-8132-95abdd5a72e4"
      },
      "source": [
        "<b>Introduction: </b>\n",
        "<p> Google Text to Speech (GTTS) is a technology that helps in converting the <i>Text</i> into <i>Voice</i> that mostly matches a human speech.This service is part of Google's Cloud Platform and leverages deep learning techniques to produce speech that closely mimics the patterns and intonations of human speech.It finds its applications in visually Impaired persons, feedback in interactive applications, etc.,\n",
        "</p>\n"
      ]
    },
    {
      "cell_type": "markdown",
      "id": "cfffa832-5dd4-4263-98e1-a376fc8eb24e",
      "metadata": {
        "id": "cfffa832-5dd4-4263-98e1-a376fc8eb24e"
      },
      "source": [
        "<b> Objective: </b> <p> This worksheet enables converting the text to voice.</p>"
      ]
    },
    {
      "cell_type": "markdown",
      "id": "4d657928-2f49-4690-a08a-747bcd4de3f8",
      "metadata": {
        "id": "4d657928-2f49-4690-a08a-747bcd4de3f8"
      },
      "source": [
        "<b> Requirements: </b>\n",
        "<ul>\n",
        "<li> gtts - Python wrapper for Google Text to library.</li>\n",
        "</ul>"
      ]
    },
    {
      "cell_type": "markdown",
      "id": "3bc5c587-6b29-4ed1-ac0a-2cccae667ef5",
      "metadata": {
        "id": "3bc5c587-6b29-4ed1-ac0a-2cccae667ef5"
      },
      "source": [
        "<b> Steps: <b>\n",
        "<ul>\n",
        "    <li> Connect to your Drive. </li>\n",
        "    <li>Install gtts package.</li>\n",
        "     <li> Program\n",
        "        <ul>\n",
        "            <li> Get the input text </li>\n",
        "            <li> Process the data.</li>\n",
        "            <li> Save to .mp3 file </li>\n",
        "            <li> Play the audio. </li>\n",
        "        </ul>\n",
        "      </li>  \n",
        "</ul>"
      ]
    },
    {
      "cell_type": "markdown",
      "source": [
        "**Connect to your Google Drive**"
      ],
      "metadata": {
        "id": "e4Zt21G0J7Mr"
      },
      "id": "e4Zt21G0J7Mr"
    },
    {
      "cell_type": "code",
      "source": [
        "from google.colab import drive\n",
        "\n",
        "drive.mount('/content/gdrive')\n",
        "\n",
        "%cd gdrive/My Drive"
      ],
      "metadata": {
        "colab": {
          "base_uri": "https://localhost:8080/"
        },
        "id": "Gb3ByJXoKAv2",
        "outputId": "f2c7f705-94f0-423a-f3c0-a557d86ec46d"
      },
      "id": "Gb3ByJXoKAv2",
      "execution_count": 1,
      "outputs": [
        {
          "output_type": "stream",
          "name": "stdout",
          "text": [
            "Mounted at /content/gdrive\n",
            "/content/gdrive/My Drive\n"
          ]
        }
      ]
    },
    {
      "cell_type": "markdown",
      "id": "7f32d337-9f5a-4b42-9098-14c9f5f642f8",
      "metadata": {
        "id": "7f32d337-9f5a-4b42-9098-14c9f5f642f8"
      },
      "source": [
        "<h3> Install gtts packages. </h3>"
      ]
    },
    {
      "cell_type": "code",
      "execution_count": 2,
      "id": "b6068bef-0123-43a4-8cce-9fc08f70eefb",
      "metadata": {
        "colab": {
          "base_uri": "https://localhost:8080/"
        },
        "id": "b6068bef-0123-43a4-8cce-9fc08f70eefb",
        "outputId": "e8962cc1-65b0-45f4-a023-41ad79a4bd71"
      },
      "outputs": [
        {
          "output_type": "stream",
          "name": "stdout",
          "text": [
            "Collecting gtts\n",
            "  Downloading gTTS-2.5.1-py3-none-any.whl (29 kB)\n",
            "Requirement already satisfied: requests<3,>=2.27 in /usr/local/lib/python3.10/dist-packages (from gtts) (2.31.0)\n",
            "Requirement already satisfied: click<8.2,>=7.1 in /usr/local/lib/python3.10/dist-packages (from gtts) (8.1.7)\n",
            "Requirement already satisfied: charset-normalizer<4,>=2 in /usr/local/lib/python3.10/dist-packages (from requests<3,>=2.27->gtts) (3.3.2)\n",
            "Requirement already satisfied: idna<4,>=2.5 in /usr/local/lib/python3.10/dist-packages (from requests<3,>=2.27->gtts) (3.6)\n",
            "Requirement already satisfied: urllib3<3,>=1.21.1 in /usr/local/lib/python3.10/dist-packages (from requests<3,>=2.27->gtts) (2.0.7)\n",
            "Requirement already satisfied: certifi>=2017.4.17 in /usr/local/lib/python3.10/dist-packages (from requests<3,>=2.27->gtts) (2024.2.2)\n",
            "Installing collected packages: gtts\n",
            "Successfully installed gtts-2.5.1\n"
          ]
        }
      ],
      "source": [
        "pip install gtts"
      ]
    },
    {
      "cell_type": "code",
      "execution_count": 3,
      "id": "48fb4d34-1fce-4a22-8825-60fcd78b7229",
      "metadata": {
        "id": "48fb4d34-1fce-4a22-8825-60fcd78b7229"
      },
      "outputs": [],
      "source": [
        "from gtts import gTTS\n",
        "import os"
      ]
    },
    {
      "cell_type": "markdown",
      "id": "d78209b4-0960-42c6-9814-e1031e1df4d9",
      "metadata": {
        "id": "d78209b4-0960-42c6-9814-e1031e1df4d9"
      },
      "source": [
        "<h3> Program </h3>"
      ]
    },
    {
      "cell_type": "markdown",
      "id": "4d565928-7ab4-42f1-adc4-5f8796ec7444",
      "metadata": {
        "id": "4d565928-7ab4-42f1-adc4-5f8796ec7444"
      },
      "source": [
        "<h4>Get the input text </h4>"
      ]
    },
    {
      "cell_type": "code",
      "execution_count": 4,
      "id": "efd6870c-76ca-4a88-9dcd-88ae10035990",
      "metadata": {
        "id": "efd6870c-76ca-4a88-9dcd-88ae10035990"
      },
      "outputs": [],
      "source": [
        "input_text = \"Hello, how are you? This is a Speech to text conversion example.\""
      ]
    },
    {
      "cell_type": "markdown",
      "id": "dd0d96c5-16af-45b3-896d-6cd8cb3560d9",
      "metadata": {
        "id": "dd0d96c5-16af-45b3-896d-6cd8cb3560d9"
      },
      "source": [
        "<h4>Process the data </h4>"
      ]
    },
    {
      "cell_type": "code",
      "execution_count": 5,
      "id": "0566ed76-fe44-4a58-9e99-5e08ff5e9bf1",
      "metadata": {
        "id": "0566ed76-fe44-4a58-9e99-5e08ff5e9bf1"
      },
      "outputs": [],
      "source": [
        "converted_data = gTTS(text=input_text, lang='en')"
      ]
    },
    {
      "cell_type": "markdown",
      "id": "bcf0c6b6-b150-4cbb-8c49-26e403af5d83",
      "metadata": {
        "id": "bcf0c6b6-b150-4cbb-8c49-26e403af5d83"
      },
      "source": [
        "<h4>Save to .mp3 file</h4>"
      ]
    },
    {
      "cell_type": "code",
      "execution_count": 6,
      "id": "2103883b-0bf1-437f-a839-743750808fdf",
      "metadata": {
        "id": "2103883b-0bf1-437f-a839-743750808fdf"
      },
      "outputs": [],
      "source": [
        "output_speech = \"greeting.mp3\""
      ]
    },
    {
      "cell_type": "code",
      "execution_count": 7,
      "id": "a4a63cae-d90a-4e1a-b1b7-843b99666104",
      "metadata": {
        "id": "a4a63cae-d90a-4e1a-b1b7-843b99666104"
      },
      "outputs": [],
      "source": [
        "converted_data.save(output_speech)"
      ]
    },
    {
      "cell_type": "markdown",
      "id": "8bdea553-e01d-46d8-a91f-9b74a817a01b",
      "metadata": {
        "id": "8bdea553-e01d-46d8-a91f-9b74a817a01b"
      },
      "source": [
        "<h4>Play the audio</h4>"
      ]
    },
    {
      "cell_type": "code",
      "source": [
        "from IPython.display import Audio, display\n",
        "\n",
        "display(Audio(\"greeting.mp3\", autoplay=True))"
      ],
      "metadata": {
        "colab": {
          "base_uri": "https://localhost:8080/",
          "height": 75
        },
        "id": "2ljMteirLhJ3",
        "outputId": "90ee243a-01f9-4691-d2ec-c5e0e677b052"
      },
      "id": "2ljMteirLhJ3",
      "execution_count": 14,
      "outputs": [
        {
          "output_type": "display_data",
          "data": {
            "text/plain": [
              "<IPython.lib.display.Audio object>"
            ],
            "text/html": [
              "\n",
              "                <audio  controls=\"controls\" autoplay=\"autoplay\">\n",
              "                    <source src=\"data:audio/mpeg;base64,//NExAAAAANIAUAAAP9QRrhSY2n+/EXh52f+USymnOJZ8cDhnxLPeAQ4kDP8xpQgQFhv8xuPKPmj5X+32CofV1Lf//q4kIAwW/7M+AGgUDm//38/vvUqJnDZcQNQEIes//NExFMSScpQAZk4AI8q20fuSyo29Xtb+OspIyGOJYeLGX177YHDDSQlnKY2Wh8aiHgDgAC0lrhIWlsqEwwMLLDhZCmWv3pNEIkdY873O2Dl9ui9xZVg4WLTB0/mFJVZ//NExFwgAjZoAc9gAEnoFDFWKTsDk7PL89v6d1KV6mxuaBzYJvbOEMPH7l4Y2sHbamql2EKrdNuZRkVFMBsohORyCJfjmO5mZsBwhHkqVzq1DPVak/TYKIy8tOYlx28e//NExC8dEjqEAEsQuLkOQISvkinVj6TBUQoBixKJA8FXLki5jPtht8Sg5klRgo75tvFZ8dEDqWZZCBrQfc2k2lTvwZix48wuPP2HEOu7WPlNo+pk15A4AjClcokpzpdk//NExA0TCf6gAHpKmPzpswFyykSMO5yQ+spNVqezY5GTsRb4XgUD+H56rXiqcqixSmGOcWClM1yIVW9tvt9KtuzpnOVPIq0WKbbupVWms/WbkCZ1LL+Epf0QLDRFD65N//NExBMWcbKkAMvKlAHqBXzs0cloJAChCclErwLheIPjQBuIOr5/CEkdVYl1dOIqsoodWcQK4dYgmAbGOgmNFYkrne6T65/66Nc0dsAE0gVScoYlpefqhLGLk8z7SBUw//NExAwU+U6oAM5KlInb/1GFmnm8U7NZQWDTV66zrR8WDluOrayFUYXbpb4MAUL5KqblSD24gd9kAz1iL9CG6AKiPIJ5DDDqWRCNSGCSxgVAc7I7lu6/WYgSjRvncoyA//NExAsUybakANZElGCPDYtRVmMnRAmbnjynQmO/ev5N1LifztkcGEn7GdLSsiYtvWf1pc3MLbmfoZ+gEraAQt9AwGL4Mj92bQdrJAQ+hrxVCztbdFWk/VWaIWItOt2a//NExAoTYbqYANZElCdswXc0Q58Y5K2AGbYbgj+7q2EjhqOpZyomqF/5PZsuFIoLpu/8zZv//4hfyer9W9Ct/1EhhuYzL18ykmUCU50Bq5qFl125KYaAhBMyDZUNHaaK//NExA8VMa6MAOZElGDCKPjUQgJ2d0CaQV7YPGrMqto6hhdJelzDlhgxO3hvGrDF7//6Dn/6lP8nlT/5m/TQUEFec/L92CAAVGYqfu4p6P//y6mS87hTigEaYFuZP9rq//NExA0VqcqcAN5ElKho8UUEsbmGlwAFeQOfHKv5odyYbVqZwrGEMvS9rl1rdvD/wuc//hx/n+dvT6N1QW7UBizO1b+hLOxiqSRANcnk8Qfn///mUehSvd3lVSWATuLc//NExAkU0c6oANZOlMbjRRWatWXVG5zwOBK95Dlu4xl87+W8KYMTm91cNMstc//u2P/6mfKfNb0f5/qBQw1DVNenJ+htEodRKjUvcgfacsAnTT//6PKaarP/uovszQKf//NExAgTMZqsAM0KlFq7HjUmba8XhWR3gOYAtvLjz4+RzKCKkwLACSPJHkA1IqN1kh8R+Jt6CnzfRr1AYvab6H0mF7RIEElR2+5kXDf2////os//mUIG2JNnjNO6JvJY//NExA4SYZqoAM0KldqTofGBgLQEuRdNlubkqii6BcBuIghroCMDF2pqMfQY/UJt5zt4m2kzJ4t9W9H6nEskW3/Q/+2+i6yTKrHP3QBZxenmWT+S49A5NnWS8CgB8vL2//NExBcRqS6wAMZQcLd2X16Sj+ILkUEWWwWlDwwOAiD2nLtDm/jX4tf73X/495YaGxVZHfVe0wMGu6f8dc+f7cxs8CSjGWLuPyWo1oDWmdQm48Dw7PNFXNRyppCwiQ0A//NExCMRWSqwAMYUcMejGKlAYgVR6PBEDNp7mKclrKt20Zf30PPIWgsS0o/Y071q7Y5JQvtp2Naqto8jV+yVTNBGZ4yQU076S5ZZoWDkKUKndVrCJhigFipgv7Pxecpc//NExDAROKqoAMZwTO3lS4hp4uk6heMYKuhlJp//hk3/17uOl8HEA1PF/mwm4mrQvicODA2wItDqDAVGL1M7UrTGh5s6K4sGGDLVVIh8+sYCgEAoAlWyGRSs9kdLb/9E//NExD4SKTKgAM5KcFViCwqVDn/yhv9Ct9yEUgcjHqd9TfGd1nQA0OE9AzV6E3AERWrJUM1gF7PulWmowZDmYgMBQYGGrNlkLApDCprdnTX9NNP6UYaHX0fQRMV/L8UM//NExEgQ6TKYAM6KcAriYw90cFEzNnhRfOmPYo7gUQNYd5ZYBRRoGHXLEIaPqpUTAtGmMl1G5qNWhMBhZCO3o5f7SW69tWVYs53ZZQkcOb+tXBeZ6ZPSTGLiGBllbDKg//NExFcR8TKMANZKcIB5yQTcYHDjYWkEKUgLlFwnAvSFzxASbAf4BkRLEGqrSWpA1u/X076tl1f8126Pr/bMaYOJMIPU+sGci2d0eogDQRr4yeM+FQg9WJgKwZjB40l///NExGIRAYaAANTElRVEHCRQl6uS5MPM4Rqhdh36XDeOP63vW8f7h/P/7cy//1Q3T/t6RAp/6DFyYwMACoKBWY41MEAOtYwQDR5Q2bKYDqkbeMZUcIS9fhdzYwoF5EA8//NExHESAYpsANYElF0+rA9tZ11lx4idOgsS0BJ9fuCRqed1hIe7/6k2tSSIAmgQYtWg4l+jIShkg5exNcZpNi4kqHyQIqD/TjO4TwncRi3S2dQHC/py9z+ssBNHAVR4//NExHwRMJZgAN4YTEWOqkf0/r/2f1IQgiSsETUfHWJa4KEwSEtw5QElElCR4NKPFrizwoWBqJTqpIS4aa87ao66o9LPyyniYtbyTX2klHS1Fv/3p2nlVQZhIPk62vfo//NExIoQKN4UAMvGcLz+BC7YghzAAiTu97k095ggOLY850vvOLKKCwIBEHwOBJyCDsHDhPq/cH2BhULOEDuGMufn9bwfD+J/KfwcBBUQUfRVtmW3aWGqabmH+jN63D0X//NExJwQCHnwAEmGSIFXiMZhSs9iBhl1qyRcVT15ay+yhPIoK1Y09aegpRg6rRtbmtOrrxWdUSVCOXemoP5VqctqTtqOv9u9Zoa3USJ6tEEhUlHZlfOV522KUh2QQnVw//NExK4R0MnoAGGEcHNURjO6Uz+1ZGxDQ32/hzo3e/t33oYbaESWeTsQE9BUl5Uyiu91auLf+tde2Xr2kLdToCsY11zqlGb9SjH9XZjX4arGbn+3+xqsbX//Uv1KN/6r//NExLkguxHsAMMMuf6rV2bv1f+KX7Md9VjN+xqsY/9mP2Jm+NVOrsx8WBm+KDXwNseAaAeHKAYMH4GFAhgv8AGgcwof4Xg1NyX/9TEgJYPD/9JCcRJf//JQuGh5N3////NExIkV6wXwAU8YAf0GHub0DM3Jf///83aUJn///xOHoPgcggirLYnCG6ORDM5dgL4xNWHEqsYVjQ+eLCR5rhUC3yxIvwdNY8NKsJ5v39971eArmJxV5yD3A/rzyJSP//NExIQSKkokAZRoAJeL6PiObnNRGGoj2tc1vWu8YXaPuyeNM0GnqHlscf821uJjU27wPe99xmNzT8aPvLn7///4/+M3/+frf+duQYD49R+3+//vlz9OGLGiQ8wpon3A//NExI4gwk5cAZh4ANQHyFDEJOZ+FOrjxhMVSaT7Viwz+JlQw4lqvoE20i3PxDEJGHGUS5RKviG4kY62XBwfQT8zHfItD6NkrWtSuScxFgu/CxmHAvEkZM0vSJIztj+H//NExF4hWjpwAc94AEjw57Wfy71ikN9uRk38xN03qeHbGcS5176pOGyByLvS94811O/PqTUWz9QTsWHCJyhqqtTYrDNQZiKOYC0zJMiXOGAaJQTQU/m6IJC0J8Y5B4Vd//NExCscUhKIABMSmTIqnBbOGhlEMJg6JDBCDSEfNAEaG4ogx55uZt/Z1J2s6+OLJk5U+uchP4k9ym2lCG/e6ddLMpiDdT5kmNswhYjebu59/n9Vie9Qk4B2OuSzcNws//NExAwVCTKkAHvYcAyPKtYww01A8pKIWXup1qIc4pa2p7qcd7JxIUhOP69slnAkBERS8lWLLX5uanfLbSsuhuwHiiKYEXtYeYuj6Kil8Uet7Epe5ao5UsmQJ4VjGkKw//NExAoUmSKwAJYwcBUKW5t4CiL9fL64hCGAhuKy17yML3S3GlUdTZ7lpWwDYhe6txhTi2udrxr//6G1l+Neex/LXKOxlrKumIdlTpPEzranwxajfXVb6gU9j6linArh//NExAoTWZK0AJYOlOSXQALzmSiKVSDIbCW08UaOW2bTeHaASnP4S1fRUHzPD7kzY746Ir7R5tRqL3nCoC5tI8d0Xzfmvqa9Y6fslj9LqH1qx/epKFEpn2v3BAFqknf1//NExA8RcRa0AMYWcDIUqeGDQ+1VVTJMuo9mVyOoAV7yvKqGQyOSkfHSSmcJNj9tP520+OWLPtU1UCwqdf/rDRob8Fa7+txwhJK77d6xFwBWZcSXMSp4ZLknysRAyOw2//NExBwQ8Q6gAM5McBQCmcyGVwU3ZBZk0ev87HIBdPOVH/Oqd/mi78mkTkOaRxH/8NM/nqKTfqrBQo+ckDu38L65TlolGKKymNIdAZIqNtnh2vADVwVjO1OS2Q20u4fU//NExCsRQQKUAM7acHag6Eo/H4oK6Qy1NYQMZVNExLpq3/+rn//q73eq8ePZGKX6aKjIBkswAhB3ZVCVumCEJgYA5kqxmlUTAAhRjOU41wsBoZBBGSunJWx6fyLkuDh///NExDkRcOacAM7ecCluUGswo8UQd3//0kI4/NQOCcIQvMbi8MAjBadh/T12XpMqL5nLfaUlCJLekW9QaMDIdF+Z3lVkYtuX3MdbXs5uFfOllTz2lnVf//y+Xdjdv/////NExEYSaNaYAKbwcP/1lEWx/cLaDBxgbZs6seIAJwzg09galuWp8BHnms/9VaUawy58Bzr3/TwWUxcRokFPg/WWJmcng8DH39Ss+nSf//63ZXbiqquWNaOjJI4pN3rt//NExE8Q2O6gANaecFrNhP4tQNlyJ01CJKZrqUJS16ii3UPxtVphdijMS6SYHsalK6YHcAqZHwdl02P/T//6p55zvV0+nzDc4wcNra5lKQuDBdaF1Lj0kg4mhuNVRTAc//NExF4SQfqcANNOmC7cZtzydvdvY7yMej0ywlgYAiUscFACyDaPnOkZL55vQz7eZ+jPRSg9PxWsHELEyZ+qhv/wpwopF/U7njNBRIEQruCoMAIW0ICbyvzDfQ729BUH//NExGgRsaacANKUlKWygAwFQ+WpNdav6vTKocdjAln5RWXMJx6a8HDEONiEOxYXWD2r///+mmGWezsDGGFBG/NpXiK+hRwQCSW5uoh4S7tjubqHZ8p+s39ZT84Y6CYT//NExHQSoaKQANKUlACFNGrMTVPYqN15jvZhefc5hDm1qLVzGKhdHlaEAQsmQDVuYQ7VRFy463v6t//////6sUMAjVpx5zKzGhA0FcLLbVVugBNhpodeweYBcCfiWviL//NExHwX8u6EANtUufknzPUefE/WIYELKabmh4YBqcrGW2tJ1utZg9BaY7TfaTXWtBMTUecuHVEuyCnUWtqUb9csUy6JstDZR5z/18nU5bmCwPmqnrOVWAgZMCN0pvzT//NExG8YohKMANqamEkyasaQ02KEYGyblBZfmDnqX+/MMN+bTjmyQ0CZ5vAeyCJrdAdiKXSZ8oPcU9K+uGu+er4Yux297jvaGoDCJdWfCYHX//9d/XUYme/lLTFsGlQX//NExF8VgbKcANKWlBpbRjEg28dmp8JiTVEw8arkP9/fSfPOmOujcRjAqNk4OAyCRl1tkFJKFCJVmN7/l/7d/3///6/yTMbusJFLej////3C1ZRl9zAHTX4e+XInnbSg//NExFwTWaKkANFSlOchEeDgMVxRErEB43e9fm3L0oxL0gajEuRi6FmKIgRikhENJs9hGaV6E8Jln7/6DYpf+531qq2OUdBoY0DadlP87HgV1Cckqww8J+6wBrs7z5il//NExGEQyR6kANIScOfSUtNlypGXq2lVCBCTJqEgyIA1sLWQw8rZzJojlI1EaHHK/+7/s/////9Fp8cl4CYsh7BYF3XAtZ7HLPUBYVWOM9jOHzEZs3JRJabudTfFBQuR//NExHASKR6kAM4ScAXAsgE1NrFUUtlt+t/3zudTlBGsCjf/1Kc/9SqU28gtQzG03MEumu0ulN4zk46lkHIX0omROtDDAHBltJWbUd4p1TEq5NrGh5fySuMSLoAjgoSW//NExHoQiQ6cAM4ScLYaIhNogBkon/6Ulf10Vb0jjAJbIGT0uMgKcGNq2HtIAEyUSIDQcZhhza8rwFLvieGE0/DfbiYqLB0cFh0pjXbpq1FfVHQxlD5Fsb/6jj/5v/////NExIoRSKqUAM6eTP/+hWJPcoqafOJGYWhMEStdjcGbnVELNgxPtVt+TgYMJsQS6mFVVGHIfoQh0PRuUh7RYPCNsdNbfNfP8N3pFryKmtd/+FvV2//////jlRkGio3A//NExJcRoRKQANYKcO0LDH7/oZGxOP5BAwgmvJ6dUsHcZS279yGAStYY705GFDy8TSN3msDIfJMEYOtVE4XPA2Nc4t/+NR+49////+WViTlAk4cOoclUY8QGCi5qsKCI//NExKMSkRKAANYQcNbjegtcisrqfaSiaqZ3n+h4ch2LoEQaqhxH1platdq0ZPTMzrINA0DR4THsl3f+HSx49/IqZq5TRzFFUNtuK/cL06/DR0UqQZbnJEyRgiuQHpoY//NExKsRUJJ4ANYeTF4rHDcvWfn0agsRZS5S1KdMmTlk2RUBCgusXctxXntY6p9izoquzfsrv/kaF2Z7IJSrDF2x5AZQtMpBwW2IjQ9HETaN9NMFq7oCUznkaiSeKB0P//NExLgRmLZcANYYTBFVzYwQmzAvKD+jCR47jNCDKvWCgsRUVWnbVU6nRc8a4S0rAkOyUxdnDpCkFj5CS01t4siMKQYVnVJmCgLBRMAmJMWGss92WPEix08GoLIER6sN//NExMQSYNIMAMJGcGJv8GUlXcGq3FXLPVfVlXQ7PRL+WUxBTUUzLjEwMFVVVVVVVVVVVVVVVVVVVVVVVVVVVVVVVVVVVVVVVVVVVVVVVVVVVVVVVVVVVVVVTEFNRTMu//NExM0SKM4AAHmGcDEwMFVVVVVVVVVVVVVVVVVVVVVVVVVVVVVVVVVVVVVVVVVVVVVVVVVVVVVVVVVVVVVVVVVVVVVVVVVVVVVVVVVVVVVVVVVVVVVVVVVVTEFNRTMu//NExNcRcKnkAGJGTDEwMFVVVVVVVVVVVVVVVVVVVVVVVVVVVVVVVVVVVVVVVVVVVVVVVVVVVVVVVVVVVVVVVVVVVVVVVVVVVVVVVVVVVVVVVVVVVVVVVVVVegLrIURK//NExKwAAANIAAAAADwQCAnDBGonUd2MorISYShMJgwJ2HstGR8fEhPD3Jk+bMN5sWmT58wjEF7u3VCj3Z27O7HIuz6M8zO7HIqK7M/3Zn6FMOHOzqYosODBcUC00Z0m//NExKwAAANIAAAAAA1mjIqKmjYDd9Jg080BFQ/CQsiOXFJ/nbZwOaV4+lFhFFhGJwgMxDmeaU0r7wQHYQHYXN0cZFUAMgFjOLAMgCYcCxMIfLkAs71FxUCNAhMIvKFy//NExKwAAANIAAAAAAFv45JEIgQmwIhYBkCR8IjjKgKhCCRmTTqNb01x5mjVasFBSFUllRlRly4ao1aqGFgIIcBcTDyzvSal8hrDKf/lKoaAUi7+giEvliR7IhIeNLEj//NExP8Z0ilkAEpKmMM/WWQLAUsSCgVAQOkSJ0KgKkxBTUUzLjEwMKqqqqqqqqqqqqqqqqqqqqqqqqqqqqqqqqqqqqqqqqqqqqqqqqqqqqqqqqqqqqqqqqqqTEFNRTMu//NExOoVWOH0AGDGcDEwMKqqqqqqqqqqqqqqqqqqqqqqqqqqqqqqqqqqqqqqqqqqqqqqqqqqqqqqqqqqqqqqqqqqqqqqqqqqqqqqqqqqqqqqqqqqqqqqqqqqTEFNRTMu//NExOcUoW3YAGDGlDEwMKqqqqqqqqqqqqqqqqqqqqqqqqqqqqqqqqqqqqqqqqqqqqqqqqqqqqqqqqqqqqqqqqqqqqqqqqqqqqqqqqqqqqqqqqqqqqqqqqqqTEFNRTMu//NExKwAAANIAAAAADEwMKqqqqqqqqqqqqqqqqqqqqqqqqqqqqqqqqqqqqqqqqqqqqqqqqqqqqqqqqqqqqqqqqqqqqqqqqqqqqqqqqqqqqqqqqqqqqqqqqqqOJw0hFuJ//NExKwAAANIAAAAAM5bMvGruROwu9ibvy/Onht23LA4DQSBIEgSBIEgwP169eZr195mcpSb3vTpyixYspNJuvXr35vf6LFixzVjnXXna9/F0c6UQIIWgQIGMnPYEYrF//NExKwAAANIAAAAAGTt+HXFAoFCDLnsEbc/CEIQmujRo25zRigUCgUMXPVBWKxW2oKBQSRICRhcLgmCYr1duiAEAQDDFoIWjJ0eqIEc6ha4rFZOgz9QUAgGGICKEQTU//NExKwAAANIAAAAAPNyzMMuywWd+ZdprTOmvQ9Td1WAQESux/VCgIlVVQwEBCmPZlVf6qt1V2ZijCm1VTUKAiSjN6OJEq8zrmkSKONU5RxKvJElXmfRIkbOd5mZ3+qr//NExP8qIx3AAMsSvV5qvM4xIBEUWOS00AgEks0ijhwMSliQUlso5JEAkUfXNJEiVPMscRRw4kSpzar//7EEjIyGkIyMjAN/8yMj0ERkZGBsJGVlIjssv//////nyyzI//NExKkg4x3QAMDMvJrLLDNZZZSL//7LLMjZWsqOQlgoIGCDoLFKGBggYGICafAwx0Diq/D2gLN/AxRALSPwAwGiOP/NSuaGH/k5Jxaf/6KaBoZm//+brTN7L///emga//NExHgRgqDIAAhGuR50H////QY0TrSNC4t0/////9SCGgs3NzIgcMSBoIXhmCiGRAIb1EYCC6BxpoZJznbggEEF235jdswoABoACoio4eEgCGChrTZ0FFnjRhk9TjCp//NExIUAAANIAUAAALwfcCaVN/Npx9jnpXc+43uu/+uK40v4pYrnXq+8aZKjz7f6a3v1zytf8q+tG/P6n/v3aTUM6m95ajKi2FUYDMyVtMwpBszef0wxDAzskAwFC0wd//NExNgSgxYIAZSQAA0NWw/Ao8mgIZGHw/AYFC0qUoKBpAURB4XFjayVGNkkaxJGk2xuVICpd2ydSigOfpOZbz1kUG6Y1fea/41jVL4gWeegJNGGHMElKiL0JdNGlH3j//NExOEdycJEAZxAAdR869l+tCgc1PXYl4tVn1XqXeukukYqmgupGQam+pDuzR61usACLzFT1uxI065UdGiwiJnUiucTFRJBchxNGa48a4qiAgwU/0OlhRXdG/qzo6xd//NExLwfySJQAZ14AP+MUrSYZ/////rT08f+q4JcETfA2qqwJ4Eeyu9O549jdv/1nhhyhh8JxdChiM5ju4x0EMG4PyUaKU9Mr6cU/ETZcDDd7Svm4r+///+P56MRrePV//NExI8R+WKgAZkoAOd/dynIFPxIMMEBQG2gG84sZP0ZSKZPm/RPJ2W3nsKvNhd4rBtQkHCJGgQdt++o3VfPlp92Kzcgk6iDf27hdQLmmMZoC3////3a1f//7KRlA9w0//NExJoRkbq4AdhAAIBwHYtWxEKCnUroEx1CtUmSlc/4SuUS5c97ywsx+sSgiYfPnyeSkN1ALqZJ/Llwco1nzk9fU3a13pEw/KqIkaCeCgG8Q4/HrmkRqsyOctr2c5nc//NExKYSkUbAAMTScNQmYuVNIEHphUoSnGEiG2OdD0dF//////70c42dU2Yi5DgadDXv9/eF8RRkUtmdwv4xKHXZqbqgXQhvzW+aaQtR4+AmGxvQ4if9a/KrVM7CSE////NExK4f4vaoAMvUuf+vVdGZ5Euv9P9f5E////7VdOyZMIQT0InVed74DCzbRb/Dkv+LX///H//P//BPf/+n/38pd3d833nR7pRuhValSkZ2INRCGiAiLiQcdQ+JUKIu//NExIER0v6wAMqEuRwahxgmNOPQRNBBwwAByCZ1BN83///////////06f//3/X3rdav/o96dTqGT0VDmZnOOnzkMIDxh5EeJF2MHFcblRcoexQSBaI4kmhASGo2NG4B//NExIwSYx6sADBKvOIocGBQiq////n//+vu////wf+n/+30baZX+Z63rzEVzjT0YfOSfLIxR0QupQmWOafY4wwgRIEAy5EdEsSxFAsEIKEwqKBqE5cF4mLE6l/lijix//NExJUR2yKsABBOvA85/////8s9y///5iP///b//Pbt/pVvei0Y1NWOVDmoh5oBocEpJlONTQ4ieh44XGjCkRmJDguLExKGw2KHg9FRF6rGtjlqrBi8wootUlazZ+Ma//NExKAR0yKwAAhOvGEABh3Dkzp2JbVe+cosr9MmF9s/tV++rwHF08iE/960IxxjHU4p0f+uF///82un652dUlrUvDvDH+ZYuGFZpqz+78smHcGOmrW/hn+8nr8XftWd//NExKsR8xqwABhOvWP7tjK3M2/SpfD9cHUhGcyrSdHM9XRZiqdBhwFjXSm3///u4YE0O/////1Kx5+ptjAYUBqrxuUyBkAAMHChV3Webtyi1j/KlNDuOP+xMoG0mwxY//NExLYRuUqwAMMKlNzQDwERNuJh3/1Dr/mHX//1Ts2B01//rMnf/r///qF0VbXOfQjkgGZv4zaxh9+aKHs9dMBOXYsqP06/Mv////9f/////zb//+9ub/pJVKEpoyby//NExMIR2cqwAMPElCGU5CEVykU5wwNIg7OwIQUDQWpMugpwmRtny6ef//////////iJP////67Ihie69Uz5a59tZ6pWilDD2JEL3PHwuPJ1H5M5IWOIR844cSGCoOCE//NExM0RyT6oAMYWcBcPxUBsHhEFYVgawkCwcF+BXNFcnXWXuioB0RJaSptBm/////+fdOD+X/8pA/////2O+/6J1ddW12zPQ5DbHmsWOaYOFRaeWJIOoKRw4icNhMRE//NExNgQwxKoAMCEuWLkzA8bxFCEauGSBxgyLRwCkc5alphTJkDA0SlpCDOBYNMzNaCQgXaYEC1KQ0zcjDnfsByKhXyJ80yds0FnfsbUxLEQzBmA2zzUbG4R38fFa3vn//NExOgV4x6gAGhUvRT0xjFM7xvzf79nQheeu3nP/+39dv+7/C3uJmedV/5/Pze27TefsNbooHOadvg6t5yPNn9jiSOenRliWf4cAiRwCxJgYBPNeQVGkpeKh29SovG8//NExOMTgxqsAEhOvWo0BlbmGz1n1SGHGDocKDBXGviX0SygFZdUDqVrqq6dBOhqLvRp9HVjV+u6cDrCrdUQTPWq7yV4OO9c7DgVFzXLhnLLRnoVmbGPpjx4oAoKgkDQ//NExOgjmwqUANPMuVN2VKiVlOLieIp5RBiDrNxEcIhDRSAxaPGtMDGLb//qVSHXAwF0heqk1Zccel2pUqyjQG2G6dNAzSENnDmPOE4J1bq1Cph6YzStNtyUONtain0p//NExKwgEa6QANYQlMQpyUSQF4Ic5c0H9RMQNigtV2ZHKUqiTmIYxAkoGIcaZrsnfr06KIkIMBQzlUCIDU2WvbO3f//pel8oupXzyEqAa3goYfZSCJogAHsHrGdZqp0m//NExH4ZobKYANvKlFKLqNBMutbuKlIoSDw9DFfZf///mEiGkf/a4V/6z+IDC3n1i5QAO9pMQDAwGFHFn3A+Xi44zYpuAkRVMCoktuCEWq5ruu7Go6rdn61JSWUtkR9a//NExGoTKTqoAMSKcPVe9n+1EDBc1/XxMz//x11vuJd7OdD3v4t7LmJahuOwyyulh3rWltehKE2iw1QXKUzM0QM5TI5yF3ZgmcPkIanC46dHeQgI5usCWuQwHBoIAEkC//NExHAdixqgAGCWvXA4SCFOhSoR2///////9////mf////////v/iW3xHF81fHe+VKa244mLhWXLI99PmZ4uW2iu8oknMKDhGinnDUkj+mXkMbNEZheueHabuVIU3G8//NExEwUAyKoAAhWvJotijNv///////////+XP///+/+3Xa5jGqj6W7WW5xVZ6XMSyNImDc0aFR4eH1HjhaVFDCMWLjc0fGhcQBkRQFDcajwOhQC0LDYkKBOXaq///////NExE8SkyKwAAhOvP//z////5f///9//rz6rmbN+6zkU88xh48bnlVazDjFZpQaI5hrGmEJAFg3PGzA7EciI4bFg2EcgI5AWRwRxYDoaFpKL/mb/////8p////v//////NExFcR4xq0AAhOvf///60r764REuET+JT3c97Prm574RHKsS5HVU2YzFj6xFeYYSnh6DwnUQRSUD2VFaNalJJpqGB8PKoLL8pU1L/fL//////+FQhCFf//7Fxj8/77//NExGISQx68AAhQvAE1ZmZmZj2PpVQoEBMGY7DZj4eTLGYCFWARRvZv1WN7X+MeGFRv2u3qUDAQowsAA8GUNZNmxNFYyPo0aVVa9X/s3R/1vVmS+l+7updDG9On/Uss//NExGwRgxqkAChGvNq0pfNKUqsrTOZ/UKXLNdDeIiyTJGtOjc+Jaiqh9T2D2HjGxkaHjVxgvXHZNAsPZUVr6KWUssAq4npE75p2Up8yXQO3NXiSaFMyZoeHqdgfBkUm//NExHkQ2g5UAVAQALWSvW3pkMhk7isc5R8wj0EP8SgzDkmbwROBk3dtvsp0wUvdtoWfr2a+tvvNif0KyG+xft3eu3cw2qiv9jkmvNprokX+7N9+J72aFGSOwNBwwCJw//NExIgf+yo0AZswAJIyRS2PAgAAjnhwyYhpLEUmzJweAN/6j0Ebb0L/9LaZ4MKDV5TslOtmIggkBNMuk6nH9Ka/8dXzOSciGaa6+iS2Uvf//US9L6iWT976g2gf0+9f//NExFshqh6MAZt4AOGSHNDxfT/NGpavqtoMGn////+48SOCSxK8RhNIzrPynSBxAESbEstGWjB9l9LepkERg5x0B4kFuTD9mQXApUwaNX8Is/VNl/xnL/9Wq2/8Ta/+//NExCcaSfKYAdp4AG1t/wL6rr6jYfMTEXYcK8eUmzIadMLC9dDzW8RsqvWf/LvGL7j6tn0mtu2H604S+/3r7xSv1bF6fVYb9igQd//+tKq9ljWbic4j7bl/Jnp1JTZ8//NExBAWgaqkAMHelIoABfmEup5H/26mP/pqN/eHCYYu4EUyA6sMd1evKKM/Y0wX1U3tLO+tePuJbfxTevvGrWo8eN7dOD6kOFonFY0FguHzjv///RSUw/eSeh0BuTWv//NExAkSgaqsAMnSlCW5nvpAzuV0F4OiWpR8wxv/torXfP//HzmoqsiRI5HSALCsfPNQPMpGFFpNNp1DPGq97OOXU29hrS9lW+zWNFEJzxysEJ0YgaicERRiQUMzDgOq//NExBIR0aKwAMiSlCsilaTq7f+zd/3//lzyWJ2eA80IjgdQtooFS0k5nUpTyE7hFna/l7958pQ/2Bn/6///3/1G6rmXUdDFB3M6sGZmGasYqKKIgP7hIQtRYlqFeqG1//NExB0ScaKoANCWlPf9v/MxdWeSpQ8YuBycMycbwbK1BSYnStGr3fO6KfX8tmdKUzDn////9f/HqtwfGR3IOaksEAolDtCXpYk3GpTioISyTnqRb83q3//9ccxI5xBA//NExCYRsZ6UAMnQlAp4Qg2FrJN+iijjYFjiWZua5quar9pk2h7Dv/3////0LiKR10iQDAAvlXFnQEKAkWBLDPvGZS5MZmKff95z9fv+tWt6bfe6lYE5QTBjsavmMYVW//NExDIR4T5oAVkQAMix54FU88+hR5TySFhLG0ksj//f/oomTDzX6Vr2K1bUuo6CWd+/qmrtppuMIOBLqe6YxB0EwMu1TbDLRJVIa/zRBB7jsNTcyOlD+gXDRNNMuD0K//NExD0fgypsAZhoAIsHuJmkUP+XGNE3mZuPQJOF3L5UOwoDIE4NP/2pppmjabxgB6IGZgXUUygikY///3f3ppvoHlD0MC6dQN0y06xca/O///////6o3RXrRkZ9BRVF//NExBITSgKwAcEoAdnnyRBhOwmJi51OHwkFAOHxIomB7mIKGoJmE2CYuJorh9Bi3SSB4AIz9+vk//93MFOK7+qlWe/7YPELVS////v/j36+9ZWVGcvTW/aXZJZgrVKK//NExBcQQcq8AAgQlZ4kB8eqkwSkjtrLIU4aAJ4ChaJBdZa5lpbf/6luMnWnn7/1clj/3/cf+l////////v/1/87SxvqrjFkZNnf6fcuIDrJXt0swnSaKiG10US2Ko4d//NExCkR2fK8AAhMmVqmyE0XgKnHOvYIl6702sv+V2E3/bv67sF+ZXkApIoN//9VLb/7AwETMf+xNVKw7UZRLBhV6AgIwE6G1AVAVLkFMGME94irIxKtzaHpWGuAgavU//NExDQPae6sACgGmEuJQEDTwVCQ8NUAXQvY8///////5//lf7msK8Pz9Sa85qv/tYaxsNToCMGMrRVjYZxK7USGdDaMrUY8VCQlDostst+sFmw7Ap3lrlsOqlTCG6Qj//NExEkRae5sAU0YAMFgSe5axvlBNBv7WPliJv/rrH1ytNdP/1j9rG9tefP/10fNDc3NE2oMIRJWv/rNHpsN3h5I5vJ8kEP//+wnwcenCZ0fARGJh7Cw1mQZ////lDTU//NExFYg8yqQAY1YAPNbfMUsCcWlCJ8vMSGAbLyWW//////MxVRLXU1/7V1h7H8DAZiDGkdYE47ScTIsoGYADykcCpN/ff///UjV97G1VtaauAjMO/0AU6sNjAZKuWZO//NExCUQqTK4AcIQALQkPBU8dJHjoiJBWEh4CiZAiEpX2grBVwKuFga8lZfYukjQXIvjURvO/w6MFIJwaEMPSPATiKLnh2xNwLq7vE828vdfLC9yNgCCCGH0WYhir/XG//NExDURaaKgAMIOlKapvp/+vpNjpkDLphnRku5Ss/sZdThpXjC9JphRllYVxOExe2NLGrXxOmtfVl1rUrsZfvLRB3jRjIOEZkCcQiSSCZRDvh5mm9Ll4saNMFidG7qK//NExEIRqTKkAM5QcB9oxepdmr0+AJUjYILAK1FrS9iJjmBZnCxKm+r61uErp/atPCjfZvZp2aYDoTmgNAKbEzXK1apXK1zWociKIj2p/Zng6SJQrAhpf07UqntRpWwD//NExE4SCS6YAMvQcEwHRMDZye1ptCtaQ6mke2mTtM6k9W3Upu/+P7q9n8X4x/7KGHEhmf9zdR66d/CeokIXODVjlSumHVu15bp/TTQAFdGZGvENhlCkEc80ihbCv+mv//NExFgQ6NZkAVkYAHev3f64jDwTKr5ZXZIHYTAJ66iHvYxge14VN6e2OXveaHMB4BIPg74LOP63vuGMeHsPY/giExpM4+p/fbKrl9DsJgI43n7eZjo6v4jv6j/n6/HQ//NExGcg6ypUAZpYALH7zdN5oaM///4j6/pnfP1fz/RubvNGWgaMJ5vKFsNZIfQ6nhwLX+9P6OVTzpJu95w5T2UrFw/qd6b0j0nUL6uIOMpjKaqanrVv/rl9y97DcoSV//NExDYcgyagAYhYADqkx8R1XX8Pfc0duy8qBEcWsrj///Z79ld6Y6yaocBPPDvOHUE///////3/N7P8bz4GDM0SOWCGTkzEbyAY31SNEU0SzXd/ev//9iepTM6L3R3U//NExBcSoqa4AcUoAa8QOVLLZf77erbs6nFTkGoxfqj0UrOXRRUSBiylLKWtHeIlKVlKVC1LiKEb4Udjjrxv3Zpu928V8G+g63eRWOzS6AuYTMYAjy71V4zv8iLdv9bP//NExB8RwT6oAHmMcK24YeRZIik9Qeu1eO3jPU6BURkRCpZrlbG4HBQFwycMLVWsbGuIiKjvfqpGmizBPrSokCx9nx2QtRiJyI2jiAcDo1jJ8lzc91tHfcfabxhgGcBr//NExCsSCRqsAMPMcE5H/Dy8Qdzvi8nouAjLzxMP+1vuq2pmgGKDkNT11f/8pSW/aDjrKWDYEbHRC4I6TBckeG3DtRQZERofVWb8XXzKiI2MwyDmLWkF+SPH/lfb+NwY//NExDUR8Sq0AMRecNreYbnNX4f7PU1vq14WqFNsvmGn+G8FSj7ZyVQSGtvVCQTgWMfjHQgsX/fa7VsP/cVz38tpLWfeZVSPF3uLKmEPj/LXE+NWkvTWat01BgLGFBzf//NExEARcRq4AH4ecFZb7Pv8VcLH4RAcsuPv3YeN7Hsw7Ql9R6LezuMwwJX29fhEq///rG3mjEnlr+5fhbnPxcK43ofzRuZ3ldwrK2eDp8zQXCUl/+o8LbulgOESCGo8//NExE0RsR6sAMYecBVxnMt6DGGoCTdUMbdlub8pVNrvCtGqezrciIVPj/aF8Yxpr/kLBE9ZGKUAJM3GSqGlc6zRZ7L/9fqehYCedoU6wRMXHhrhBqKLJigJEwQAlyoc//NExFkRYQqIAVhIAItMoKBKTp5RV85mya6yMcltx1lPEbdasTMnAwbUqL14IWFRRNJCiWUUGsUhDEWbnqpyrKarG06TnlpxjHEtYXYq7nq+Sc3PZJpWwzUtqpwv1K93//NExGYgklJEAZtIAWGVkHwr7DrI5s2RUkOyNK3/no/H/7pfqzrFkN7VaMRbhDx17zEZ2Yc/8jwg5x/qGlDtBHGf9h4LDcEQEsayoT0+XUajrAMIQ+DoCYdCRHr/yYqf//NExDYd8xqQAY9YAVn2WLvchX//N/HHNv2f//9dS+X2/t7+DjZ////th+Di5occzYrNGhpJxmyHf////9POSfpN833FepChQcXhY+9UAQqCz61qh2TOUdr9TevspxC6//NExBEVQyq0AYU4AJZVexeib6X85zn/1Rq03W3//ecfN0siv8w7zDaXkEesw042TH2dD6dVmZi85CpeeYJYlkWNFZLRCpqERsEwyIwlECI3Bf//////of////6f/0+n//NExA8SGxqsAcI4Aen/tTrdmacj57Gqad7LUkYa48p6pZ0OPcqljjh4oXHycqSOLhEaqCljB0IUGgpJjUaESAoEQm4ce0oRf////////9f/P8dx8X12zdxfcuW+XdxI//NExBkP4xqsAAgQvPvRopGp3+udFIQXTkZQwOQ8zyKNFkOF0EUQbBoPLgEw7IGGiykSigsM/////////////////r/zG9HVv8pTOUrPQPCvEQ6ylMtSocVopUcRDo40//NExCwQswacAUUoAEQBFRIBgGAIAg6HQ6HQ6JB44CuAodauNKEwmA2PZotUEMXTKjwau/kyrRHaaf5yV2DtLUiT9sp5eXk9EbQeEUehMzvfjro0RNIEYQQ9kQ8QL//0//NExDwgGyqYAYxYABCjSJQNlTU6apvrZ3zva1ZFyLzy5qsUmR4xNCGd/HX89npX29Q1kMUtcwV0DiGi3+P+p//jU5ZMta77+k3HaRWdTLpqlR1cgLRWygFmhkNzDuoa//NExA4Vcp58AZg4AZ7v/9U/NHSgV2XwlEAcA42hxJPguACAKOEYSt/+cqOoi//9R1SI64ig5O+cy/+cNyRomEUicPCMSNdbf//5pppqnKIo8NhKXSOrsQn/+sT/f1X8//NExAsVUlKcAYZAACIjx/n34sgnX6f9DCDBpJwNLrrzx421QGgcguD8ICan/0RH+xFD8RCs4///ufSqnvWXRzR5Cdf///aRXP/itsKEgo4Ev//ToSwF1bmQn2AgQyie//NExAgSqR6gAcwYAPltEVSFqV2bc1Zl3Pm2WcbVaW2RN+1aOY3h6UcSYUEwoOShwRBQUAweMlwCoXQBkJL4SXWFVxQkSuU7d//yqZE77lK9Rbhk42UDFrSVu5uOKaxg//NExBASaS6kAMsScBuGIB3n0gHzi81XwfRfH3z2+pzza91U5+0AoVWTHCCaU26xqFOjpfY5NHTnEltRpiiVEzhrr6E/ZM2V1aB4RMBpb/CAI2BAGi3ViYNib1Lu+Pt2//NExBkRCS6kAM4McM70xOyrLDGXdz7Yv92N/uK22umFnLOGA43NKlE2JbJqcfVFOMIlmM/3ng6qa5TTQoKAMNWkzYLLAcwl+UEw6JB65iAsdfp56u2cJ8z1nC5a3Xq0//NExCcRoS6MAN5McLjXqXL9mMqvACRc0AgEJrzR5z1utX8zhqJqBaBIAjK6fy3GASFB6I/UcMFUDSAZMhiRA0B1n9yp3up6im7mX70zz/pOY50uNTM4/PD9SCIaMbkj//NExDMQuTKEAN4OcNRMSZCnXieYaKhj//s+j9GHYk4JjaiCyX0tTMT8IhQuBOmYaQCYM6RYo9l0CZVNZIs+GBHOEuWeiQUOoeuJrpCai3rNo0ccgkkm09qq3P///ftC//NExEMRSS6EANvScOd0qmuzEEmba5sAe9ABNzUDcyAFecGjJmQyD9LGEYMpuZDuOKM4sVoa4cmGM0KKeYAxrUIiEyaQqJorMsqw24rETvGk2Ugccjs6/TVndd2hGK3a//NExFASGPZ4ANvScFVWKxmNxGQSAQmjgY26iIj7DREZToQIhfM0EJHeu4gkri0lJfD8msveceD7QQcp3kNAgWB+n//9quJ91c/JqnkZ4EAVOVIYYB2EYVIJsQMgizaV//NExFoRSPKEAMGGcM9zHO5PHisiR3iLW1IoHlpYWnEGSPTYmlGWkz50ukCOUZ72mBhxz2/1eWIs/6f////Tpr2hkMAo+FK0g5xyMzIwDGKgstm6RWF+rtdERq9m7E2a//NExGcReOaYAHvMcHZkkBo5X5TEDMCEz0rVUnb+oZprDtoUU2NmzP00U///9n9anf////9SVebuSsOul91bBm0goRMv6FqZMBYPHktkx2adVWS7rDXIuJYzgN0Q0ebG//NExHQSkM6cANawcPyRhcIeoTPIYTs4z+PIXA8EvBgHBGhP///+v+7/////Ut/qDSzqz6kNigpgxol3BQZ4yX6na1ZVWg3Vf1+I3aqzbaReGWcw4WNgOYV0RwOMdauN//NExHwSaMKoAM6eTOHOkmg+Hb2POBUP////2pb//////rq5j9yTiTeniaxWenREwPQQWCDqwWMZlaKpJzGs4Tj2/fZW5gcXvl9CGgmB1nUhxdgshYDdElAyhLybs/rG//NExIUR4MqwAM4ecIji3///9EjXjOO5ogCTDTROlKVvR0LMswDNg4aqiTocIaCxZhMEGqj9bgl0jPU8zEyJXD8y9TUSsJfB+F8gRY+g1pQDp0F1VAC8b7SaL371S9oK//NExJARONKoANYecJ8XVd//oHmjsQgKlrHnDg7/////iqpesSyYe8Jmh5o/GEQAs0YAYBixohEhgblcjljPkLYYp66qyG1FUpJpOVfkvzj1NLWzxDqmJdkxB5GyALhI//NExJ4YCOaUANvwcK5hRkEK6WBYAAcypSoA7bkTsqVXfOks2Ij85Qy+5hvtJy9nlUpKTnf1SczqWK9uvhvueFtTi4AYyNMlSwncgKf///+npqp9tX6UQHH+ohEw592Y//NExJAgoYKAAOZylAFINEYv1elWV3Ue2zFmOSjfj9+pMkUiJtzSEhDRcUmYG0z1v0wKQCrkQVEhKMliYIFYuMhDJpLJyDh2CAhEwUH0hy8rMkjhDktBZ73Q2XMhmnCb//NExGAhGuqUAMpWuTs06dV/3R/f2z/e/f+xn9Q19P/r+vn+o9lfbN/VvZ1J++O4R7VGswAZwtmUsyHM6P///uuRz2lIzlI7DxQ5IQFxwFFA6LhASFSRQhJAwIzRASiB//NExC4datqkAGlSuZrIIMjBRMBFLH0USAgIEM2yRoSQYmUVja0byTeMXJSpQ/evadKZButrUb2JL5cPezn6/vbUyG54eqjWz3pt0xbPCXpx0RhFSny//////9/q63K2//NExAsR+eK4AAhMmWzqfO4FByJKFFfS1fJRIbhN+e8sgwAwOmY6CpP/jU1Js7WnsD0HWRG+JOGW1ujmx/9ZR+LETeO+n9+6/SvK5QkzbFYYZ2DGf////zL///cd8ds1//NExBYRudq8AEhMmOLSEO6srd1/EuRm9tSIFvJJHfufnLIZOvy2KSYkT2hQgVkQkafc48t2uVlsjOqtjiy//V8FAo1MdBzITCAqkC/lUqGi1oGB6mt7Mmy3bZrMdXOh//NExCIQiTKsAMSKcd1Cbi5xmdGav+udgMPaGqzWc2VBRQ2mvF1/8bXe8X/G1bOMcEDTXq8kHD2C0wwEeh5kOj+JraRBnjqHAttsZcZY5vlrLa9OXi+UiZU8BdY9eN3G//NExDITMUKkAMvYcDa8za3xfmbu7aaFxtznPFTyRhSmhKVkjbq2ocMJ0mnX5Mr7B8aTWQc+9ZSQicvcnoMVKxkjBtjfxdx1hvXiPc1YEMOR5oAwBnU5rKbU47dAzwMb//NExDgRePacAMvQcGiISiKVO+JYiWREtKBEeKMw8bZnH4AMHPNiKc5gYIooio0/wuo0igMmbBKFrEDeO/i5fxKYhn+XQHVkCM89v4NLWjGBkjtmIn7bYgacb///t9OM//NExEUQ+TKMANPMcO5o1aqDYWYCGknJ1gwvAAygqx9lO/bDyOSIe5SRJIE3xalYkRnQ3mvIhPcEgOgS2nIvL/G+Nv7lvV2z2em//t1t/voVls42Ex1171pKrg8JVhgC//NExFQRETaQANPMcFg9DlAkoMLBJbMjMXZgWq3OiygpvdaXhLcaCV473Iv3MY6mnzywhKsRomyAG2mRcH38pjPYn+vXfltmR5W8BGxkw1reqV3mH/6a9oufD/7/UuXD//NExGIeaaqMANYelCKGRoqDgu1R1dKBCgQqT//6ZAWEEmXbUqbGaGMU2ayCbktf02xRZKROEvUdAfSNUQM4ex7tm3q/t9R3BK2kUmFxwUyzUI12QDKlfpOolc5lB18E//NExDsSGUKkAMNWcKPXrpsuW8bT//////H1hneJgsxmjHEAgWnRsPgdr9DcCezo4EriR/v2i/Lh/m318X6TvW8xJrUgOk54IBJPHyGONVY1Amr2RTJ3Kh6BLoe2+8Qt//NExEUScTqcAMvWcFW2/9WhmmGQ6bSkWkJwyAhIt+Z9B/vA7qcL/JNS+5Kp3Capu/rLvF9T7q4d//Doe3gdy2H4BIE6ySdaUk2DYdx4Cnag7/w1OpWCyjQnw1lbMyFz//NExE4RWRaEAVlYAPMYMGKTRjQ0FPGp0wokMbMjFQkDAJiIuqNtkf1BIfC+m5JHaJeHIShui60WXHmTCgI2koySJZlIYWsOeE4HIaIscTZlMmvHYIwMgYM3Zf3/j3Hu//NExFsgympcAZtoAG5os3HpWtv/8uIKLhoS7qJP//t7s8e5LjkNGcwNC+mv//wfOQQLjw/VP0vp1HrMDfZ1YkiFG9VkpBSCowugcPIkIykh3ks3HQTCGLSb3EHFlIcN//NExCoc6uaUAY9YAMXgKjyNp8rKjzWpvNGUanjz+LbU9X0+/vr21P/EfX9U/vtz0Vr/+prfbGMv5fbHMpKGsR4v4/++P/inv6//+/ptrU7Ow3QGBBD6SJRXDJP5+o1a//NExAkUQyqoAY8oAJRc7hZzjO+u///yupebq/X5P//9v//306MZZKe//zb2R1ZGZjWVkUhuRG2QUchCbkRgsCODCoDiAuNB9FWMGAYXDwDgGHwHDCEMKMb/////+ujf//NExAsTWxqgAcJQAX9G///////q7Wr9Z/Weh7Iet29j3MmOr+1EWiHuaTH5hUwWDRqVLoPwbydRVG7oPxBg0lTxUGASQpCUQQnBcFS5EzWS8iQuG1gohDAjJgwvWf3X//NExBAUUxKoAEhKuVl//5NHHcjyR3//6aX+3/1/+yJ/ktUi3lVyjA8UOydulpbHFCoUxjKHREgkcRDpTIJC4sJCI9hYx1MHRoEFwkEWVaGxcQ3KwOFAaB6LKtqRhmwM//NExBET+SaoAMYScDVTNlbfC87Egv3pROZVe2+UFjfEs+pv8nb8E7rRA+DaQoMXtt3UJwuf3z3kjxgDU7v9dQuD//+z/89+JfcsMsezY5WS4YjTYTkQGdtwpslS82+r//NExBQRsTKsAMYYcN+dkjq4agOz+57n6vM1e+UlvlftYScZLgeH2alKforyWntlZ+arxatR8OcUk7LvRDdvru40wIA0LGJF0/2QmJl7yYKRdOG5jK8o8ZSd/hU/3d5+//NExCAR+aKsAMPQlCN8v8/MDXbzssAcddB6nQjTIht5dQWdcEHTjV3X5v7/v5/nmTr+y9epnYAQoEyZ+Xyt5DDBoVukJVQNp8WT5aXg32VRiF/dR89asvSwfe2S7bcr//NExCsSYS6oAMYYccR2CZWv5zb7LntbXW29dmD73pLdHrIDh3Ffddfv46XPKuDJ09xVESZjKBDRpj8mABisbCXlNmoNK2CADVpED4jZ59pIDuNlhXjKcfxHGyCJU04U//NExDQR6T6kAMPacJ1mWirQfRzrNPaBqzmMVonSlbjKlNesI6Hv6wsIxcsGBAxFKBu5DQv1WzBhb8aUbYrLaz9NrRypuNjF2GzyIsG6nmtCYOoKdi6lZdeFb5e28GKM//NExD8SWOqYAM4ecHlnlTodEW9T+oO1o3+T4EFWVjQwDlVTNsAWFmHiRuJkXBAIRtITc3hzMiqSJwpJ8YJecn4UxfR+n87CpKImCb9aeee5f8rr1Ng1FJ8Soinv/lXc//NExEgSKPp0ANvScLJKl2DAwIyeMFk9mphBaagFuYAB0yIdStJuX1GKqKQND12rdSPo1njYrts1PZ2v2yZrWivvfdep0ngUmDcTpnV/5W5N2Kf/////9NUwpDlA5IqJ//NExFISiPZgANvMcJOuUUQzhReGV3MmABAkbfFVMHyEcrYrfVrUNh5oHByYVD27DbZlUkDCjMhlx4GyrbxKVtq5ws3T/R93//v6/So+AgSWnGuhgzCVeF4q5VwFtXRo//NExFoRmOpQAMMGcE/xLeHrYGpuRTU/BCkGyz2il588LDiRiVWLILi1aDh1jRVZILL5zumqpVu7RZo7e3aVU8suzkoTHLppXq3qDtPmrENwly4bkcTa+7cPw/egNr8v//NExGYScJ5EAMvGTM4bd+X9DgPBKCsG4uHYueHZ/h2Lh+eLihhYufCaB2PpBo9E5dkTRKksXanF3i+XmP3uET4pDEmE+HgUMr/dxe/ipSpfksPcXSCHnwHScdg7MsZf//NExG8dehZgAVlAAV/1fvB3/fUwIWM+KkoDeQ8GlJnpMJGAYNmvHRpycaaemiyjbpXmICo0DBjwYeKC4CLCyQRagNkmDVIGfDAcE2BAwKiYEScLFRpHkRHRPE7MCskk//NExEwh+lZ8AZugAFh90GUgqgklUZK9BkKSTmCSS9ZNHk2eiUTBNSKSDIIr6U+glqWm7oGL1J1u6VKr83RQNO/SPLSNw8//0o3ALumuUjwphozFMmgQBDgE3f05QseC//NExBcX0ZKEAdpoAIJYm/FQ0tgwy5KGsyEzyAFIkPjAIgMpcE3BPiRQJBaKZmvdtGmlqXr73t9XdW61plBM8my3ZNTLTU1BFJRwyK6zRNLMseUnaiqUxaDTSop6GQvJ//NExAoUsZaMANTKlAgTBzDDsDGwsZMXtZsSI6gXWdJsLPgSyNIEAASiPBNA3nHg+6bIGD76Oh/er//+mcjsEzHOaRWkS1kYyqLu0idhyhCCg5Iw5lJkFuHAFpU865jE//NExAoUsZKMANUElKTC4GEDAzAeyi8eI436IYgBECRIuCJCO0jgDFgDAocYngNiTMSs92rNt9X/TX///IGMEM4Mzq+xjKadwoY4jibboAoMHwwp1yKgupLAZ3GqpK4T//NExAoTOVKMANRElAn+ELR+I0YyEAQrQBPYDaHcM+ALwwqRoY8FhIygNyAxaOIzPJoHWqMnf0f////21RWHKLPEFs0B095Fhrz0Ygc8rEmT1RkEN2ddJw4rXcbcGvXh//NExBAREJaEAM6wTMDO8gQAb9qw8DkxIDJgVmABKruPAPvb6mdO/8ktfneyReVtV//iUqONXpuJkm+dOo/N8DoVVw3wwLMUUd1ZRqWS9YdBgIeVw6OEQOYlAuYMvEII//NExB4RsVaEANQElMQRgssmgHgbAK6G2i3E8YkMQSLxpRT2f//////1MCi4zqSxju//6FiFRWZAWcOklgtwjNWwYBXEMOgiUqcv4aw23sHpauD0dEJrS1Jxmz1xpMEc//NExCoROIZ4AVowAKTxRg1U5fr//zrS5Aw3QMDrTvUxXoaATylbFgIwGkkpiRwceXmAiRMHBGkYyBDSSpa2rshzu4QOFIGnLQHpB+wXyJEMUi5iHDnEWE3mrmojotMf//NExDge2ipoAZuQADE1MUnZ1rN12TSSXpr9TJV/rs5immeW6jQ1TR6kklrKCKWzzA4WdBBOi1GpJ651KgpXzyTHzUfPnVP7pK4SKsZHCkCVmlhS5okRS5yn+jUujMBT//NExA8QuHoUAdhIAPWppbdqV7dajw3LbOdYQPacPCZpAphIOhRCRdCKGmE6B59T9rUPUd2bkTv3M/3J0einf9Al4yJgjRqk0zZ60EJSc8cHBISKcMKJRdbIHNoQLJhB//NExB8SKPIIAGGGcAiR85T80HGnyx3ApEGFGzI0iwxBa88KLljjS29VVPiiVKp8rpXq9+NpTRCAEESWrISWMttChSaKilEmFSWW0sRIUNbGJMeqqueywMBATT0NKBoq//NExCkSmM3sAEpGcHQVGgsHRKWPVA0OBkq7W4Rag6Rllu6UeW4dkan/rcVOw6pMQU1FMy4xMDCqqqqqqqqqqqqqqqqqqqqqqqqqqqqqqqqqqqqqqqqqqqqqJTZIvqSE//NExDEAAANIAAAAANDhg2wjQLrMvHGHEOl/7KZGiPLMyMyMjUxhbo6WKKGGHGMjIyGFo8rKZo8rKYwwtHisJHHEOjymRPLKxDjkZGRjDjjOnmR/KymQ45GRkZOZGTEZ//NExIQAAANIAAAAADullisQwsDpkXR00rO7SMD6Cgew/HBAM2G3CDA5wQWsz2Uk5ZlIjTpJ7fhPIeQdZpGjgR4Ex7vLJEf+eWd8ggsZ8sg8j9ixEsQA0iOS3/5BGkjy//NExKwAAANIAAAAAEhYi0gRwJ7fIeZ+5J+YI4E9AsA4eR9JSMjnNUDJhJiTmzSmtzSihpppzv42iS2/5hpxIqSKN/zGY7/yiwscskuXSaJLv9xYUwwaKGkv/9SDRRUk//NExP8aYrVQAEjGuYsYUwwLJFXfzHL+sPcaVJFVTEFNRTMuMTAwVVVVVVVVVVVVVVVVVVVVVVVVVVVVVVVVVVVVVVVVVVVVVVVVVVVVVVVVVVVVVVVVVVVVTEFNRTMu//NExOgUqEX0AGDMJTEwMFVVVVVVVVVVVVVVVVVVVVVVVVVVVVVVVVVVVVVVVVVVVVVVVVVVVVVVVVVVVVVVVVVVVVVVVVVVVVVVVVVVVVVVVVVVVVVVVVVVTEFNRTMu//NExOgUoEXcAGGMJTEwMFVVVVVVVVVVVVVVVVVVVVVVVVVVVVVVVVVVVVVVVVVVVVVVVVVVVVVVVVVVVVVVVVVVVVVVVVVVVVVVVVVVVVVVVVVVVVVVVVVVTEFNRTMu//NExKwAAANIAAAAADEwMFVVVVVVVVVVVVVVVVVVVVVVVVVVVVVVVVVVVVVVVVVVVVVVVVVVVVVVVVVVVVVVVVVVVVVVVVVVVVVVVVVVVVVVVVVVVVVVVVVVTEFNRTMu//NExKwAAANIAAAAADEwMFVVVVVVVVVVVVVVVVVVVVVVVVVVVVVVVVVVVVVVVVVVVVVVVVVVVVVVVVVVVVVVVVVVVVVVVVVVVVVVVVVVVVVVVVVVVVVVVVVVByBIA1Aa//NExKwAAANIAAAAAIEME0FwHoLgXND1ezx90gPBWKxWCYJgmCYrFZIx10YrC4JhsEAQBAUChAghnhCCBAgQIBWKxWKxWKxWK0aBiEP//7u7u/7u7u7v///xCBMmTJky//NExKwAAANIAAAAAHd3ERBhAgQIEyd32iITu7u//EECBAAAAAAABgMBkyZMmTTIECCER7sgAAAAAAAAAAAAAyZO7v///3Z5MmQIECBAgQEKKgFACAEDIIhkUilEilLf//NExKwAAANIAAAAAO41v/mSJEkDAIBAIBAIkSIozP////7zJpxIkSJJVRxpEiRIkSJEiSJEkqqv+qqqoCAhgIUzMzBgoCAgICAgICAszMzMzKqqqqq//8ZVVVVVVmZm//NExP8nGxHMAHpMuWYCAgEBAQFVVVZmZgICAgJVVS+MqqX8ZVVVVQoCNkxBTUUzLjEwMKqqqqqqqqqqqqqqqqqqqqqqqqqqqqqqqqqqqqqqqqqqqqqqqqqqTEFNRTMu//NExLUf8xnUAEmGvTEwMKqqqqqqqqqqqqqqqqqqqqqqqqqqqqqqqqqqqqqqqqqqqqqqqqqqqqqqqqqqqqqqqqqqqqqqqqqqqqqqqqqqqqqqqqqqqqqqqqqqTEFNRTMu//NExIgAAANIAAAAADEwMKqqqqqqqqqqqqqqqqqqqqqqqqqqqqqqqqqqqqqqqqqqqqqqqqqqqqqqqqqqqqqqqqqqqqqqqqqqqqqqqqqqqqqqqqqqqqqqqqqqqqqqqqqq//NExKwAAANIAAAAAKqqqqqqqqqqqqqqqqqqqqqqqqqqqqqqqqqqqqqqqqqqqqqqqqqqqqqqqqqqqqqqqqqqqqqqqqqqqqqqqqqqqqqqqqqqqqqqqqqqqqqqqqqqqqqq//NExKwAAANIAAAAAKqqqqqqqqqqqqqqqqqqqqqqqqqqqqqqqqqqqqqqqqqqqqqqqqqqqqqqqqqqqqqqqqqqqqqqqqqqqqqqqqqqqqqqqqqqqqqqqqqqqqqqqqqqqqqq\" type=\"audio/mpeg\" />\n",
              "                    Your browser does not support the audio element.\n",
              "                </audio>\n",
              "              "
            ]
          },
          "metadata": {}
        }
      ]
    },
    {
      "cell_type": "code",
      "source": [],
      "metadata": {
        "id": "5v8mU967LsZc"
      },
      "id": "5v8mU967LsZc",
      "execution_count": null,
      "outputs": []
    }
  ],
  "metadata": {
    "kernelspec": {
      "display_name": "Python 3 (ipykernel)",
      "language": "python",
      "name": "python3"
    },
    "language_info": {
      "codemirror_mode": {
        "name": "ipython",
        "version": 3
      },
      "file_extension": ".py",
      "mimetype": "text/x-python",
      "name": "python",
      "nbconvert_exporter": "python",
      "pygments_lexer": "ipython3",
      "version": "3.12.0"
    },
    "colab": {
      "provenance": [],
      "include_colab_link": true
    }
  },
  "nbformat": 4,
  "nbformat_minor": 5
}